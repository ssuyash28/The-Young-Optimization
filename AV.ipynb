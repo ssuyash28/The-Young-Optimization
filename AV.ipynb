{
 "cells": [
  {
   "cell_type": "code",
   "execution_count": 6,
   "metadata": {
    "collapsed": true
   },
   "outputs": [],
   "source": [
    "# Import Libraries\n",
    "import pandas as pd"
   ]
  },
  {
   "cell_type": "code",
   "execution_count": 10,
   "metadata": {},
   "outputs": [],
   "source": [
    "# Import Training Files\n",
    "demand_price=pd.read_csv('C:\\\\Users\\\\tidyq\\\\Documents\\\\AV\\\\train\\\\demand_price.csv')\n",
    "delivery=pd.read_csv('C:\\\\Users\\\\tidyq\\\\Documents\\\\AV\\\\train\\\\delivery_cost.csv')\n",
    "change_cost=pd.read_csv('C:\\\\Users\\\\tidyq\\\\Documents\\\\AV\\\\train\\\\changeover_cost.csv')\n",
    "change_days=pd.read_csv('C:\\\\Users\\\\tidyq\\\\Documents\\\\AV\\\\train\\\\changeover_days.csv')\n",
    "production_capacity=pd.read_csv('C:\\\\Users\\\\tidyq\\\\Documents\\\\AV\\\\train\\\\production_capacity.csv')\n",
    "production_cost=pd.read_csv('C:\\\\Users\\\\tidyq\\\\Documents\\\\AV\\\\train\\\\production_cost.csv')"
   ]
  },
  {
   "cell_type": "code",
   "execution_count": 11,
   "metadata": {
    "collapsed": true
   },
   "outputs": [],
   "source": [
    "# Import Test Files\n",
    "forecast=pd.read_csv('C:\\\\Users\\\\tidyq\\\\Documents\\\\AV\\\\sample\\\\demand_forecast.csv')\n",
    "shipping=pd.read_csv('C:\\\\Users\\\\tidyq\\\\Documents\\\\AV\\\\sample\\\\shipping_region.csv')\n",
    "sequence=pd.read_csv('C:\\\\Users\\\\tidyq\\\\Documents\\\\AV\\\\sample\\\\manufacture_sequence.csv')"
   ]
  },
  {
   "cell_type": "code",
   "execution_count": 49,
   "metadata": {
    "scrolled": true
   },
   "outputs": [
    {
     "data": {
      "text/plain": [
       "172"
      ]
     },
     "execution_count": 49,
     "metadata": {},
     "output_type": "execute_result"
    }
   ],
   "source": [
    "len(forecast2.Demand[forecast2.Demand>0])"
   ]
  },
  {
   "cell_type": "code",
   "execution_count": 46,
   "metadata": {},
   "outputs": [
    {
     "name": "stdout",
     "output_type": "stream",
     "text": [
      "<class 'pandas.core.frame.DataFrame'>\n",
      "RangeIndex: 4374 entries, 0 to 4373\n",
      "Data columns (total 4 columns):\n",
      "Product_ID    4374 non-null object\n",
      "Region        4374 non-null object\n",
      "Month         4374 non-null int64\n",
      "Demand        4374 non-null float64\n",
      "dtypes: float64(1), int64(1), object(2)\n",
      "memory usage: 136.8+ KB\n"
     ]
    }
   ],
   "source": [
    "forecast.info()"
   ]
  },
  {
   "cell_type": "code",
   "execution_count": 48,
   "metadata": {
    "scrolled": true
   },
   "outputs": [
    {
     "data": {
      "text/html": [
       "<div>\n",
       "<style>\n",
       "    .dataframe thead tr:only-child th {\n",
       "        text-align: right;\n",
       "    }\n",
       "\n",
       "    .dataframe thead th {\n",
       "        text-align: left;\n",
       "    }\n",
       "\n",
       "    .dataframe tbody tr th {\n",
       "        vertical-align: top;\n",
       "    }\n",
       "</style>\n",
       "<table border=\"1\" class=\"dataframe\">\n",
       "  <thead>\n",
       "    <tr style=\"text-align: right;\">\n",
       "      <th></th>\n",
       "      <th>Product_ID</th>\n",
       "      <th>Region</th>\n",
       "      <th>Month</th>\n",
       "      <th>Demand</th>\n",
       "    </tr>\n",
       "  </thead>\n",
       "  <tbody>\n",
       "    <tr>\n",
       "      <th>1788</th>\n",
       "      <td>P4</td>\n",
       "      <td>R11</td>\n",
       "      <td>37</td>\n",
       "      <td>7506.839443</td>\n",
       "    </tr>\n",
       "    <tr>\n",
       "      <th>1932</th>\n",
       "      <td>P41</td>\n",
       "      <td>R6</td>\n",
       "      <td>37</td>\n",
       "      <td>1760.816935</td>\n",
       "    </tr>\n",
       "    <tr>\n",
       "      <th>816</th>\n",
       "      <td>P23</td>\n",
       "      <td>R11</td>\n",
       "      <td>37</td>\n",
       "      <td>1367.273200</td>\n",
       "    </tr>\n",
       "    <tr>\n",
       "      <th>1518</th>\n",
       "      <td>P35</td>\n",
       "      <td>R11</td>\n",
       "      <td>37</td>\n",
       "      <td>1117.355479</td>\n",
       "    </tr>\n",
       "    <tr>\n",
       "      <th>1878</th>\n",
       "      <td>P40</td>\n",
       "      <td>R6</td>\n",
       "      <td>37</td>\n",
       "      <td>804.489590</td>\n",
       "    </tr>\n",
       "  </tbody>\n",
       "</table>\n",
       "</div>"
      ],
      "text/plain": [
       "     Product_ID Region  Month       Demand\n",
       "1788         P4    R11     37  7506.839443\n",
       "1932        P41     R6     37  1760.816935\n",
       "816         P23    R11     37  1367.273200\n",
       "1518        P35    R11     37  1117.355479\n",
       "1878        P40     R6     37   804.489590"
      ]
     },
     "execution_count": 48,
     "metadata": {},
     "output_type": "execute_result"
    }
   ],
   "source": [
    "forecast2=forecast[forecast.Demand>0]\n",
    "forecast2=forecast2[forecast2.Month==37]\n",
    "forecast2=forecast2.sort_values(['Demand'],ascending=False)\n",
    "forecast2.head()"
   ]
  },
  {
   "cell_type": "code",
   "execution_count": 39,
   "metadata": {
    "scrolled": true
   },
   "outputs": [
    {
     "data": {
      "text/plain": [
       "156"
      ]
     },
     "execution_count": 39,
     "metadata": {},
     "output_type": "execute_result"
    }
   ],
   "source": [
    "len(demand_price[demand_price.Demand_price>0])"
   ]
  },
  {
   "cell_type": "code",
   "execution_count": 60,
   "metadata": {},
   "outputs": [
    {
     "data": {
      "text/html": [
       "<div>\n",
       "<style>\n",
       "    .dataframe thead tr:only-child th {\n",
       "        text-align: right;\n",
       "    }\n",
       "\n",
       "    .dataframe thead th {\n",
       "        text-align: left;\n",
       "    }\n",
       "\n",
       "    .dataframe tbody tr th {\n",
       "        vertical-align: top;\n",
       "    }\n",
       "</style>\n",
       "<table border=\"1\" class=\"dataframe\">\n",
       "  <thead>\n",
       "    <tr style=\"text-align: right;\">\n",
       "      <th></th>\n",
       "      <th>All_Products</th>\n",
       "      <th>Days</th>\n",
       "      <th>Last_Product</th>\n",
       "      <th>Line</th>\n",
       "      <th>Month</th>\n",
       "      <th>NOP</th>\n",
       "      <th>Plant</th>\n",
       "    </tr>\n",
       "  </thead>\n",
       "  <tbody>\n",
       "    <tr>\n",
       "      <th>0</th>\n",
       "      <td></td>\n",
       "      <td>0</td>\n",
       "      <td></td>\n",
       "      <td>1</td>\n",
       "      <td>37</td>\n",
       "      <td>0</td>\n",
       "      <td>A</td>\n",
       "    </tr>\n",
       "    <tr>\n",
       "      <th>1</th>\n",
       "      <td></td>\n",
       "      <td>0</td>\n",
       "      <td></td>\n",
       "      <td>2</td>\n",
       "      <td>37</td>\n",
       "      <td>0</td>\n",
       "      <td>A</td>\n",
       "    </tr>\n",
       "    <tr>\n",
       "      <th>2</th>\n",
       "      <td></td>\n",
       "      <td>0</td>\n",
       "      <td></td>\n",
       "      <td>1</td>\n",
       "      <td>37</td>\n",
       "      <td>0</td>\n",
       "      <td>B</td>\n",
       "    </tr>\n",
       "    <tr>\n",
       "      <th>3</th>\n",
       "      <td></td>\n",
       "      <td>0</td>\n",
       "      <td></td>\n",
       "      <td>2</td>\n",
       "      <td>37</td>\n",
       "      <td>0</td>\n",
       "      <td>B</td>\n",
       "    </tr>\n",
       "    <tr>\n",
       "      <th>4</th>\n",
       "      <td></td>\n",
       "      <td>0</td>\n",
       "      <td></td>\n",
       "      <td>3</td>\n",
       "      <td>37</td>\n",
       "      <td>0</td>\n",
       "      <td>B</td>\n",
       "    </tr>\n",
       "    <tr>\n",
       "      <th>5</th>\n",
       "      <td></td>\n",
       "      <td>0</td>\n",
       "      <td></td>\n",
       "      <td>1</td>\n",
       "      <td>37</td>\n",
       "      <td>0</td>\n",
       "      <td>C</td>\n",
       "    </tr>\n",
       "  </tbody>\n",
       "</table>\n",
       "</div>"
      ],
      "text/plain": [
       "  All_Products  Days Last_Product  Line  Month  NOP Plant\n",
       "0                  0                  1     37    0     A\n",
       "1                  0                  2     37    0     A\n",
       "2                  0                  1     37    0     B\n",
       "3                  0                  2     37    0     B\n",
       "4                  0                  3     37    0     B\n",
       "5                  0                  1     37    0     C"
      ]
     },
     "execution_count": 60,
     "metadata": {},
     "output_type": "execute_result"
    }
   ],
   "source": [
    "days=pd.DataFrame({'Plant':['A','A','B','B','B','C'],'Line':[1,2,1,2,3,1],'Month':[37,37,37,37,37,37],'Days':[0,0,0,0,0,0],'Last_Product':['','','','','',''],'NOP':[0,0,0,0,0,0],'All_Products':['','','','','','']})\n",
    "days"
   ]
  },
  {
   "cell_type": "code",
   "execution_count": null,
   "metadata": {
    "collapsed": true
   },
   "outputs": [],
   "source": [
    "#A function to return the plants where product is produced along with all the details"
   ]
  },
  {
   "cell_type": "code",
   "execution_count": 58,
   "metadata": {},
   "outputs": [
    {
     "name": "stdout",
     "output_type": "stream",
     "text": [
      "7506.83944341\n",
      "1760.81693469\n",
      "1367.27319983\n",
      "1117.35547873\n",
      "804.489589903\n",
      "722.766408236\n",
      "667.933072952\n",
      "482.056153633\n",
      "411.546634203\n",
      "409.149490881\n",
      "353.856591938\n",
      "310.328439145\n",
      "281.849444524\n",
      "238.406512812\n",
      "237.218208449\n",
      "231.933867578\n",
      "229.027698632\n",
      "212.352493264\n",
      "167.465042698\n",
      "158.046360613\n",
      "156.709877811\n",
      "155.853656264\n",
      "153.338188092\n",
      "152.324735422\n",
      "144.935067805\n",
      "141.71533713\n",
      "130.002123205\n",
      "128.315378841\n",
      "123.366331787\n",
      "120.799115473\n",
      "120.311167711\n",
      "116.183389211\n",
      "112.530820483\n",
      "111.701109863\n",
      "111.22085912\n",
      "103.739936153\n",
      "103.044256849\n",
      "102.968775734\n",
      "96.973107784\n",
      "96.9503725307\n",
      "94.3236878644\n",
      "82.1652584343\n",
      "68.7234898791\n",
      "67.487052169\n",
      "67.039500875\n",
      "66.5586668633\n",
      "65.0541392406\n",
      "64.7213552471\n",
      "63.6267633622\n",
      "59.8390385377\n",
      "59.0419881799\n",
      "57.4190477844\n",
      "56.8941883479\n",
      "56.7115680628\n",
      "54.977891628\n",
      "54.4456460373\n",
      "53.8907211616\n",
      "52.0062461976\n",
      "50.7039516595\n",
      "50.672350057\n",
      "49.2005986562\n",
      "49.1385766818\n",
      "48.0574428001\n",
      "47.301123061\n",
      "45.440097417\n",
      "43.3192075361\n",
      "43.2911689069\n",
      "42.9246122547\n",
      "42.3257631441\n",
      "40.6057410498\n",
      "39.4993468326\n",
      "39.0296747805\n",
      "37.834856114\n",
      "37.6196817136\n",
      "37.3366127319\n",
      "36.8997545076\n",
      "36.4483756512\n",
      "35.8263736849\n",
      "35.5275184557\n",
      "34.1786547763\n",
      "33.8379495527\n",
      "33.5117112536\n",
      "33.4764864737\n",
      "33.337372432\n",
      "32.9994514232\n",
      "32.7821240314\n",
      "32.5714742897\n",
      "32.3602203355\n",
      "31.4571702291\n",
      "29.3794484686\n",
      "29.2993954113\n",
      "28.8814133129\n",
      "27.2401875\n",
      "27.1389796447\n",
      "26.5802174698\n",
      "26.3639121569\n",
      "25.8422126082\n",
      "22.8549627688\n",
      "22.5831349008\n",
      "21.2982332449\n",
      "21.1556960521\n",
      "20.7511112825\n",
      "20.0050607522\n",
      "18.5680029636\n",
      "18.2960825541\n",
      "17.7006265061\n",
      "17.2755893795\n",
      "17.2354017496\n",
      "17.1957304265\n",
      "16.9304619616\n",
      "16.2515528012\n",
      "16.1634045455\n",
      "15.8036064881\n",
      "15.7436443362\n",
      "15.1803394236\n",
      "15.0248298854\n",
      "14.7138570506\n",
      "14.5532251346\n",
      "13.9600456571\n",
      "13.8444271447\n",
      "12.7294673914\n",
      "12.4774202579\n",
      "12.4090879076\n",
      "11.6397213391\n",
      "10.413821131\n",
      "10.349832226\n",
      "10.0969368741\n",
      "9.69181503427\n",
      "9.47314731782\n",
      "9.45963074204\n",
      "8.98983516414\n",
      "8.63840701479\n",
      "8.51394146825\n",
      "8.50235909549\n",
      "8.43284786977\n",
      "7.46217498279\n",
      "6.87594941919\n",
      "6.71019754581\n",
      "6.49310600705\n",
      "6.11051467382\n",
      "6.00189762559\n",
      "5.89183144841\n",
      "5.85049892857\n",
      "5.53353168942\n",
      "5.3928590534\n",
      "5.25412033369\n",
      "5.15863917321\n",
      "5.1224202248\n",
      "5.0300630754\n",
      "5.02871221351\n",
      "4.97846755952\n",
      "4.70863939507\n",
      "4.46883212686\n",
      "4.2887002393\n",
      "4.17543720779\n",
      "4.14389264717\n",
      "3.64523517316\n",
      "3.48366184998\n",
      "3.35287270743\n",
      "2.88852880231\n",
      "2.79570073607\n",
      "1.76455218795\n",
      "1.74386507937\n",
      "1.49813375902\n",
      "1.01597782828\n",
      "0.548703525641\n",
      "0.03385\n",
      "0.03385\n",
      "0.03385\n",
      "0.03385\n",
      "0.03385\n",
      "0.0185625\n"
     ]
    }
   ],
   "source": [
    "#For each iteration try to produce 65% demand.\n",
    "#Use above function to get all the relevant info about the shipping plant\n",
    "#Figure out the plants where product can be prepared and sort them on the basis of delivery cost,production cost,fixed cost.\n",
    "#Now for each plant check what was the last produced product, and add changeover days and its cost in the relevant variables.\n",
    "#Again sort them on the basis of the cost.\n",
    "#Now add the days=Changeover days(Extracted using last product produced) + Demand/Capacity(If this exceeds 14 add 1)\n",
    "#Now add the supply from the plant in the shipping file.\n",
    "for i in range(172):\n",
    "    dem=forecast2.Demand.iloc[i]*65\n",
    "    ship=shipping[]"
   ]
  },
  {
   "cell_type": "code",
   "execution_count": null,
   "metadata": {
    "collapsed": true
   },
   "outputs": [],
   "source": [
    "#For sequencing file\n",
    "#Use days dataframe for identify what products are needed to be produced in a plant"
   ]
  }
 ],
 "metadata": {
  "kernelspec": {
   "display_name": "Python 2",
   "language": "python",
   "name": "python2"
  },
  "language_info": {
   "codemirror_mode": {
    "name": "ipython",
    "version": 2
   },
   "file_extension": ".py",
   "mimetype": "text/x-python",
   "name": "python",
   "nbconvert_exporter": "python",
   "pygments_lexer": "ipython2",
   "version": "2.7.14"
  }
 },
 "nbformat": 4,
 "nbformat_minor": 2
}
